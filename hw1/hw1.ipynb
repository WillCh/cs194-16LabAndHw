{
 "metadata": {
  "name": "",
  "signature": "sha256:87cbf37f76df9f260f272aeb1c2013a2b2cdf0189229cd51725d442995a9c96c"
 },
 "nbformat": 3,
 "nbformat_minor": 0,
 "worksheets": [
  {
   "cells": [
    {
     "cell_type": "markdown",
     "metadata": {},
     "source": [
      "CS194-16 Introduction to Data Science\n",
      "\n",
      "**NOTE** click near here to select this cell, esc-Enter will get you into cell edit mode, shift-Enter gets you back\n",
      "\n",
      "**Name**: *Please put your name*\n",
      "\n",
      "**Student ID**: *Please put your student ID*\n",
      "\n",
      "\n",
      "Assignment 1: Text Analysis and Entity Resolution\n",
      "===\n",
      "\n",
      "## Overview\n",
      "\n",
      "Entity resolution is a common, yet difficult problem in data cleaning and integration.\n",
      "In this assignment, we will use powerful and scalable text analysis techniques to perform entity resolution across two data sets of commercial products."
     ]
    },
    {
     "cell_type": "markdown",
     "metadata": {},
     "source": [
      "### Entity Resolution\n",
      "\n",
      "Entity resolution, also known as record deduplication, is the process of identifying rows in one or more data sets that refer to the same real world entity.\n",
      "Take an example.\n",
      "You're on ebay looking for a [hip data science accessory][sliderulewiki], but you're on a budget, so you decide to scrape the [ebay listings][ebay] for a few days to get a feel for the market.\n",
      "Unfortunately, the listings are confusing and you don't know how to aggregate them.\n",
      "Entity resolution to the rescue!\n",
      "You find an [authoritative database][sliderules] and map all the ebay listings to it.\n",
      "Now you can comparison shop, get that sweet Keuffel and Esser for way cheap, and impress all the data hipsters.\n",
      "\n",
      "But finding matching records is a hard problem in general.\n",
      "A major reason is that the criteria for identifying duplicates are often vague and impossible to encode in rules.\n",
      "In addition, from a purely computational perspective, the problem is quadratic in the size of its inputs: naively, all pairs of records need to be compared to find all the duplicates.\n",
      "In this assignment, we will begin to address both these challenges.\n",
      "\n",
      "[sliderulewiki]: http://en.wikipedia.org/wiki/Slide_rule \"Only 2X faster than Hadoop\"\n",
      "\n",
      "[sliderules]: http://www.sliderule.ca/ \"Artisanal Data Technology\"\n",
      "\n",
      "[ebay]: http://www.ebay.com/sch/i.html?_odkw=keuffel+esser+slide+rule&_osacat=0&_trksid=p2045573.m570.l1313.TR0.TRC0.Xslide+rule&_nkw=slide+rule&_sacat=0&_from=R40 \"Impress your colleagues\""
     ]
    },
    {
     "cell_type": "markdown",
     "metadata": {},
     "source": [
      "\n",
      "### Application\n",
      "\n",
      "Your assignment is to perform entity resolution over two web-scraped data sets of commercial product listings, one from Amazon, and one from Google.\n",
      "The goal is to build a unified database of all products listed on the Internet: a one-stop-shop for all your shopping needs.  (Elevator pitch: *it's like **Kayak.com** for **e-commerce**!*)\n",
      "\n",
      "The web has made unprecedented amounts of data available publicly, but scraped data frequently needs to be de-duplicated.\n",
      "These data sets are typical examples of what you can collect with some simple scripting.\n",
      "The data is not especially large (just a few thousand records), but even so, you will find that entity resolution is a major challenge (top results with this data are ~50% success rate).\n",
      "Don't get discouraged; the goal is to get acquainted with techniques to tackle the problem, and apply them to a representative example.\n"
     ]
    },
    {
     "cell_type": "markdown",
     "metadata": {},
     "source": [
      "### Files\n",
      "\n",
      "Data files for this assignment can be found at:\n",
      "\n",
      "`https://github.com/biddata/datascience/raw/master/F15/hw1/hw1data.tar.gz`\n",
      "\n",
      "The zip file includes the following files:\n",
      "\n",
      "* **Google.csv**, the Google Products data set \n",
      "* **Amazon.csv**, the Amazon data set\n",
      "* **Google_small.csv**, 200 records sampled from the Google data\n",
      "* **Amazon_small.csv**, 200 records sampled from the Amazon data\n",
      "* **Amazon_Google_perfectMapping.csv**, the \"gold standard\" mapping of duplicates\n",
      "* **stopwords.txt**, a list of common English words\n",
      "\n",
      "Besides the complete data files, there are \"sample\" data files for each data set.\n",
      "Use these for **Part 1**.\n",
      "In addition, there is a \"gold standard\" file that contains all of the true mappings between duplicate entities in the two data sets.\n",
      "Every row in the gold standard file has a pair of record IDs (one Google, one Amazon) that belong to two record that describe the same thing in the real world.\n",
      "We will use the gold standard to evaluate our algorithms."
     ]
    },
    {
     "cell_type": "markdown",
     "metadata": {},
     "source": [
      "### Deliverables\n",
      "\n",
      "Complete the all the exercises below and turn in a write up in the form of an IPython notebook, that is, **an .ipynb file**.\n",
      "The write up should include your code, answers to exercise questions, and plots of results.\n",
      "Use the submission process described in the bcourses page for this HW. \n",
      "\n",
      "You can use this notebook and fill in answers inline, or if you prefer, do your write up in a separate notebook.\n",
      "In this notebook, we provide code templates for many of the exercises.\n",
      "They are intended to help with code re-use, since the exercises build on each other, and are highly recommended.\n",
      "Don't forget to include answers to questions that ask for natural language responses, i.e., in English, not code!\n",
      "\n",
      "We would prefer to test some of your code automatically, so please try to submit a notebook that uses the function names requested by the questions and that can be executed with \"Cell > Run all\"."
     ]
    },
    {
     "cell_type": "markdown",
     "metadata": {},
     "source": [
      "### Guidelines\n",
      "\n",
      "#### Code\n",
      "\n",
      "This assignment can be done with basic python and matplotlib.\n",
      "Feel free to use PANDAs, too, which you may find well suited to several exercises.\n",
      "As for other libraries, please check with course staff whether they're allowed.\n",
      "In general, we want you to use whatever is comfortable, except for libraries (e.g., NLTK) that include functionality covered in the assignment.\n",
      "\n",
      "You're not required to do your coding in IPython, so feel free to use your favorite editor or IDE.\n",
      "But when you're done, remember to put your code into a notebook for your write up.\n",
      "\n",
      "#### Collaboration\n",
      "\n",
      "This assignment is to be done individually.  Everyone should be getting a hands on experience in this course.  You are free to discuss course material with fellow students, and we encourage you to use Internet resources to aid your understanding, but the work you turn in, including all code and answers, must be your own work."
     ]
    },
    {
     "cell_type": "markdown",
     "metadata": {},
     "source": [
      "## Part 0: Preliminaries\n",
      "\n",
      "### Exercise 0\n",
      "\n",
      "Download the data and uncompress/unarchive it (tar -xzf will do it).\n",
      "Read each file in from the file system, and store them as lists of lines.\n",
      "\n",
      "For each of the data files (\"Google.csv\", \"Amazon.csv\", and the samples), we want to parse the IDs out of each record.\n",
      "The IDs are the first column of the file (they are URLs for Google, and alphanumeric strings for Amazon).\n",
      "Omitting the headers, load these data files into *dictionaries mapping ID to a single string containing the rest of the record except for the price field. Insert spaces between the other fields to make this string.\n"
     ]
    },
    {
     "cell_type": "code",
     "collapsed": false,
     "input": [
      "# Please preserve the format of this line so we can use it for automated testing.\n",
      "DATA_PATH = \"./data/\" # Make this the /path/to/the/data`\n",
      "\n",
      "import csv\n",
      "# TODO Load data files here...\n",
      "def loadprodfile(fname):\n",
      "    dict_res = {}\n",
      "    with open(fname, 'rb') as f:\n",
      "        reader = csv.reader(f)\n",
      "        i = 0\n",
      "        for row in reader:\n",
      "            if i == 0:\n",
      "                i += 1\n",
      "                print row\n",
      "                continue\n",
      "            id = row[0]\n",
      "            content = row[1] + \" \" + row[2] + \" \" + row[3]\n",
      "            dict_res[id] = content\n",
      "    return dict_res\n",
      "    \n",
      "\n",
      "amazon_small = loadprodfile(DATA_PATH + \"Amazon_small.csv\")\n",
      "google_small = loadprodfile(DATA_PATH + \"Google_small.csv\")"
     ],
     "language": "python",
     "metadata": {},
     "outputs": [
      {
       "output_type": "stream",
       "stream": "stdout",
       "text": [
        "['id', 'title', 'description', 'manufacturer', 'price']\n",
        "['id', 'name', 'description', 'manufacturer', 'price']\n"
       ]
      }
     ],
     "prompt_number": 8
    },
    {
     "cell_type": "markdown",
     "metadata": {},
     "source": [
      "## Part 1: ER as Text Similarity\n",
      "\n",
      "A simple approach to entity resolution is to treat all records as strings and compute their similarity with a string distance function.\n",
      "In this section, we will build some components for bag-of-words text-analysis, and use them to compute record similarity.\n",
      "\n",
      "### 1.1 Bags of Words\n",
      "\n",
      "Bag-of-words is a conceptually simple yet powerful approach to text analysis.\n",
      "The idea is to treat strings, a.k.a. **documents**, as *unordered collections* of words, or **tokens**, i.e., as bags of words.\n",
      "\n",
      "> **Note on terminology**: \"token\" is more general than what we ordinarily mean by \"word\" and includes things like numbers, acronyms, and other exotica like word-roots and fixed-length character strings.\n",
      "> Bag of words techniques all apply to any sort of token, so when we say \"bag-of-words\" we really mean \"bag-of-tokens,\" strictly speaking.\n",
      "\n",
      "Tokens become the atomic unit of text comparison.\n",
      "If we want to compare two documents, we count how many tokens they share in common.\n",
      "If we want to search for documents with keyword queries (this is what Google does), then we turn the keywords into tokens and find documents that contain them.\n",
      "\n",
      "The power of this approach is that it makes string comparisons insensitive to small differences that probably do not affect meaning much, for example, punctuation and word order.\n",
      "\n"
     ]
    },
    {
     "cell_type": "markdown",
     "metadata": {},
     "source": [
      "#### Exercise 1\n",
      "\n",
      "**a**. Implement the function `simple_tokenize(string)` that takes a string and returns a list of tokens in the string.\n",
      "`simple_tokenize` should split strings using the provided regular expression (and its OK to use the re split function).\n",
      "Since we want to make token-matching case insensitive, make sure all tokens are lower-case.\n",
      "Give an interpretation, in natural language, of what the regular expression, `split_regex`, matches."
     ]
    },
    {
     "cell_type": "code",
     "collapsed": false,
     "input": [
      "import re\n",
      "\n",
      "quickbrownfox = \"A quick brown fox jumps over the lazy dog.\"\n",
      "split_regex = r'\\W+'\n",
      "\n",
      "# TODO Implement this\n",
      "def simple_tokenize(string):\n",
      "    pat = re.compile(split_regex)\n",
      "    res = re.split(pat, string)\n",
      "    res = filter(None, res)\n",
      "    res = [x.lower() for x in res]\n",
      "    return res\n",
      "\n",
      "print simple_tokenize(quickbrownfox) # Should give ['a', 'quick', 'brown', ... ]\n",
      "# Simple testcases\n",
      "assert(simple_tokenize(\" \") == [])\n",
      "assert(simple_tokenize(\"!!!!123A/456_B/789C.123A\") == [\"123a\",\"456_b\",\"789c\",\"123a\"])\n",
      "assert(simple_tokenize(quickbrownfox) == \n",
      "        ['a','quick','brown','fox','jumps','over','the','lazy','dog'])"
     ],
     "language": "python",
     "metadata": {},
     "outputs": [
      {
       "output_type": "stream",
       "stream": "stdout",
       "text": [
        "['a', 'quick', 'brown', 'fox', 'jumps', 'over', 'the', 'lazy', 'dog']\n"
       ]
      }
     ],
     "prompt_number": 9
    },
    {
     "cell_type": "markdown",
     "metadata": {},
     "source": [
      "> TODO Answer question **a** above here (click here, hit esc-Enter to edit, enter your answer, then shift-Enter to exit)"
     ]
    },
    {
     "cell_type": "markdown",
     "metadata": {},
     "source": [
      "**b**. *Stopwords* are common words that do not contribute much to the content or meaning of a document (e.g., \"the\", \"a\", \"is\", \"to\", etc.).\n",
      "Stopwords add noise to bag-of-words comparisons, so the are usually excluded.\n",
      "Using the included file \"stopwords.txt\", implement `tokenize`, an improved tokenizer that does not emit stopwords.\n"
     ]
    },
    {
     "cell_type": "code",
     "collapsed": false,
     "input": [
      "# TODO Implement this\n",
      "# put the stop words into a set\n",
      "def readInStopWords():\n",
      "    tmp = []\n",
      "    fname = DATA_PATH + \"stopwords.txt\"\n",
      "    with open(fname, 'rb') as f:\n",
      "        reader = csv.reader(f)\n",
      "        i = 0\n",
      "        for row in reader:\n",
      "            tmp.append(row[0].lower())\n",
      "    return set(tmp)\n",
      "stopWordsSet = readInStopWords()\n",
      "def tokenize(string):\n",
      "    tmp = simple_tokenize(string)\n",
      "    res = []\n",
      "    for item in tmp:\n",
      "        if (item not in stopWordsSet):\n",
      "            res.append(item)\n",
      "    return res\n",
      "    \n",
      "\n",
      "print tokenize(quickbrownfox) # Should give ['quick', 'brown', ... ]\n",
      "\n",
      "assert(tokenize(\"Why a the?\") == [])\n",
      "assert(tokenize(quickbrownfox) == ['quick','brown','fox','jumps','lazy','dog'])\n"
     ],
     "language": "python",
     "metadata": {},
     "outputs": [
      {
       "output_type": "stream",
       "stream": "stdout",
       "text": [
        "['quick', 'brown', 'fox', 'jumps', 'lazy', 'dog']\n"
       ]
      }
     ],
     "prompt_number": 10
    },
    {
     "cell_type": "markdown",
     "metadata": {},
     "source": [
      "**c**. Now let's tokenize the two *small* data sets.\n",
      "For each one build a dictionary of tokens, i.e., a dictionary where the record IDs are the keys, and the output of `tokenize` is the values. Include tokens for the name, description, and manufacturer fields, but not the price field.\n",
      "How many tokens, total, are there in the two data sets?\n",
      "Which Amazon record has the biggest number of tokens?"
     ]
    },
    {
     "cell_type": "code",
     "collapsed": false,
     "input": [
      "def makedict(items):\n",
      "    res = {}\n",
      "    for k, v in items.iteritems():\n",
      "        res[k] = tokenize(v)\n",
      "    return res\n",
      "    \n",
      "# TODO Compute these (dict() or DataFrame OK)\n",
      "amazon_rec2tok = makedict(amazon_small)\n",
      "google_rec2tok = makedict(google_small)"
     ],
     "language": "python",
     "metadata": {},
     "outputs": [],
     "prompt_number": 11
    },
    {
     "cell_type": "code",
     "collapsed": false,
     "input": [
      "total_tokens = 0\n",
      "biggest_record = \"\"\n",
      "biggest_len = 0\n",
      "for k, v in amazon_rec2tok.iteritems():\n",
      "    total_tokens += len(v)\n",
      "    if biggest_len < len(v):\n",
      "        biggest_record = k\n",
      "        biggest_len = len(v)\n",
      "for k, v in google_rec2tok.iteritems():\n",
      "    total_tokens += len(v)\n",
      "\n",
      "print 'There are %s tokens in the combined data sets' % total_tokens\n",
      "\n",
      "\n",
      "print 'The Amazon record with ID \"%s\" has the most tokens \"%d\"' % (biggest_record, biggest_len)"
     ],
     "language": "python",
     "metadata": {},
     "outputs": [
      {
       "output_type": "stream",
       "stream": "stdout",
       "text": [
        "There are 22520 tokens in the combined data sets\n",
        "The Amazon record with ID \"b000o24l3q\" has the most tokens \"1547\"\n"
       ]
      }
     ],
     "prompt_number": 12
    },
    {
     "cell_type": "markdown",
     "metadata": {},
     "source": [
      "### 1.2 Weighted Bag-of-Words: TF-IDF\n",
      "\n",
      "Bag-of-words comparisons are not very good when all tokens are treated the same: some tokens are more important than others.\n",
      "Weights give us a way to specify which tokens to favor.\n",
      "With weights, when we compare documents, instead of counting common tokens, we sum up the weights of common tokens.\n",
      "\n",
      "A good heuristic for assigning weights is called \"Term-Frequency/Inverse-Document-Frequency,\" or TF-IDF for short.\n",
      "\n",
      "#### TF\n",
      "\n",
      "TF rewards tokens that appear more in the same document.\n",
      "It is computed as the frequency of a token in a document, that is, if token `t` appears 5 times in document `d` then the TF of `t` in `d` is `5`. The intuition for TF is that if a word occurs often in a document, then it is more important to the meaning of the document.\n",
      "\n",
      "#### IDF\n",
      "\n",
      "IDF rewards tokens that are rare across the documents in a collection of documents U (called a 'corpus').\n",
      "The intuition is that it is more significant if two documents share a rare word than a common one.\n",
      "IDF weight for a token, *t*, in a set of documents, *U*, is computed as follows: \n",
      "\n",
      "* Let *N* be the total number of documents in *U*\n",
      "* Find *n(t)*, the number of documents in *U* that contain *t*\n",
      "* Then *IDF(t) = log(N/(1.0+n(t)))*.\n",
      "\n",
      "Note we are actually using the log of the inverse document frequency, which typically works better than the raw inverse frequency. But the terminology \"IDF\" still applies. For concreteness the log should be the natural log. However, this is only a constant factor difference and wont affect the cosine distance calculations later.\n",
      "\n",
      "#### TF-IDF\n",
      "\n",
      "Finally, to bring it all together, the total TF-IDF weight for a token in a document is the product of its TF and IDF weights."
     ]
    },
    {
     "cell_type": "markdown",
     "metadata": {},
     "source": [
      "#### Exercise 2\n",
      "\n",
      "**a**. Implement `tf(tokens)` that takes a list of tokens belonging to a single document and returns a dictionary mapping tokens to TF weights.\n"
     ]
    },
    {
     "cell_type": "code",
     "collapsed": false,
     "input": [
      "# TODO Implement this\n",
      "def tf(tokens):\n",
      "    res = {}\n",
      "    for item in tokens:\n",
      "        if item in res:\n",
      "            count = res[item] + 1\n",
      "            res[item] = count\n",
      "        else:\n",
      "            res[item] = 1\n",
      "    return res\n",
      "    \n",
      "\n",
      "print tf(tokenize(quickbrownfox + quickbrownfox)) # Should give {'brown': 2, 'lazy': 2, 'jumps': 2...}"
     ],
     "language": "python",
     "metadata": {},
     "outputs": [
      {
       "output_type": "stream",
       "stream": "stdout",
       "text": [
        "{'brown': 2, 'lazy': 2, 'jumps': 2, 'fox': 2, 'dog': 2, 'quick': 2}\n"
       ]
      }
     ],
     "prompt_number": 13
    },
    {
     "cell_type": "markdown",
     "metadata": {},
     "source": [
      "**b**. Implement `idfs` that assigns an IDF weight to every unique token in a corpus. For this assignment, a document is the list of words in the title, description and manufacturer fields of one product. The corpus is the union of all docs in the Google or Amazon datasets. You may structure `corpus` however you want, but `idfs` should return a dictionary mapping tokens to weights.  Use `idfs` to compute IDF weights for all tokens in the combined small data sets.  How many unique tokens are there?"
     ]
    },
    {
     "cell_type": "code",
     "collapsed": false,
     "input": [
      "import math\n",
      "# TODO Implement this\n",
      "def convertDictToSet(amazon_rec2tok):\n",
      "    res = {}\n",
      "    for k, v in amazon_rec2tok.iteritems():\n",
      "        res[k] = set(v)\n",
      "    return res\n",
      "\n",
      "# input corpus should be the dict map the id to the token list\n",
      "def idfs(corpus):\n",
      "    N = len(corpus)\n",
      "    setMap = convertDictToSet(corpus)\n",
      "    res = {}\n",
      "    for vect in setMap.values():\n",
      "        for v in vect:\n",
      "            if (v not in res):\n",
      "                res[v] = 1.0\n",
      "            else:\n",
      "                res[v] = res[v] + 1.0\n",
      "    # then modify res to the new value\n",
      "    for k, v in res.iteritems():\n",
      "        res[k] = math.log(N * 1.0 / (1.0 + v))\n",
      "    return res\n",
      "union_dict = amazon_rec2tok.copy()\n",
      "union_dict.update(google_rec2tok)\n",
      "idfs_small =  idfs(union_dict) # Use find_idfs here\n",
      "\n",
      "unique_tokens = len(idfs_small)\n",
      "\n",
      "print \"There are %s unique tokens in the small data sets.\" % unique_tokens\n",
      "\n",
      "idfs_small['product'] # should be 2.436116485618568"
     ],
     "language": "python",
     "metadata": {},
     "outputs": [
      {
       "output_type": "stream",
       "stream": "stdout",
       "text": [
        "There are 4772 unique tokens in the small data sets.\n"
       ]
      },
      {
       "metadata": {},
       "output_type": "pyout",
       "prompt_number": 14,
       "text": [
        "2.436116485618568"
       ]
      }
     ],
     "prompt_number": 14
    },
    {
     "cell_type": "markdown",
     "metadata": {},
     "source": [
      "**c**. What are the 10 tokens with the smallest IDF in the combined small data set?  Do you think they are useful for search?  Why or why not?"
     ]
    },
    {
     "cell_type": "code",
     "collapsed": false,
     "input": [
      "import operator\n",
      "\n",
      "sorted_idfs = sorted(idfs_small.items(), key=operator.itemgetter(1))\n",
      "\n",
      "smallest_idf_tokens = sorted_idfs[0:5] # TODO Compute me\n",
      "\n",
      "print smallest_idf_tokens\n"
     ],
     "language": "python",
     "metadata": {},
     "outputs": [
      {
       "output_type": "stream",
       "stream": "stdout",
       "text": [
        "[('software', 1.4375876555074412), ('new', 1.9139271032022624), ('features', 1.9139271032022624), ('use', 1.9310215365615626), ('complete', 1.9661128563728327)]\n"
       ]
      }
     ],
     "prompt_number": 15
    },
    {
     "cell_type": "markdown",
     "metadata": {},
     "source": [
      "> TODO Answer question **c** here (click, esc-Enter, edit, shift-Enter)"
     ]
    },
    {
     "cell_type": "markdown",
     "metadata": {},
     "source": [
      "**d**. Plot a histogram of IDF values.  Use 20 buckets for the histogram.  What conclusions can you draw from the distribution of weights?"
     ]
    },
    {
     "cell_type": "code",
     "collapsed": false,
     "input": [
      "import pylab\n",
      "%matplotlib inline\n",
      "#print sorted_idfs\n",
      "#print idfs_small.items()\n",
      "# TODO Make a plot. HINT: You can use pylab.hist\n",
      "pylab.hist(idfs_small.values())\n",
      "# TODO Make a plot. HINT: You can use pylab.hist"
     ],
     "language": "python",
     "metadata": {},
     "outputs": [
      {
       "metadata": {},
       "output_type": "pyout",
       "prompt_number": 19,
       "text": [
        "(array([  1.00000000e+00,   1.40000000e+01,   2.70000000e+01,\n",
        "          5.60000000e+01,   1.13000000e+02,   1.35000000e+02,\n",
        "          2.40000000e+02,   4.03000000e+02,   1.30700000e+03,\n",
        "          2.47600000e+03]),\n",
        " array([ 1.43758766,  1.82366063,  2.2097336 ,  2.59580657,  2.98187954,\n",
        "         3.36795251,  3.75402548,  4.14009845,  4.52617142,  4.9122444 ,\n",
        "         5.29831737]),\n",
        " <a list of 10 Patch objects>)"
       ]
      },
      {
       "metadata": {},
       "output_type": "display_data",
       "png": "[encoded data removed]",
       "text": [
        "<matplotlib.figure.Figure at 0x7f5c971a6cd0>"
       ]
      }
     ],
     "prompt_number": 19
    },
    {
     "cell_type": "markdown",
     "metadata": {},
     "source": [
      "> TODO Answer question **d**"
     ]
    },
    {
     "cell_type": "markdown",
     "metadata": {},
     "source": [
      "**e**. Use `tf` to implement `tfidf(tokens, idfs)` that takes a list of tokens from a document and a dictionary of idf weights and returns a dictionary mapping tokens to total TF-IDF weight.  Use `tfidf` to compute the weights of Amazon product record 'b000hkgj8k'."
     ]
    },
    {
     "cell_type": "code",
     "collapsed": false,
     "input": [
      "# TODO Implement this\n",
      "def tfidf(tokens, idfs):\n",
      "    tf_res = tf(tokens)\n",
      "    for k, v in tf_res.iteritems():\n",
      "        tf_res[k] = v * idfs[k]\n",
      "    return tf_res\n",
      "\n",
      "rec_b000hkgj8k_weights =  tfidf(amazon_rec2tok['b000hkgj8k'], idfs_small)# Fix me\n",
      "\n",
      "print \"Amazon record 'b000hkgj8k' has tokens and weights:\\n%s\" % rec_b000hkgj8k_weights"
     ],
     "language": "python",
     "metadata": {},
     "outputs": [
      {
       "output_type": "stream",
       "stream": "stdout",
       "text": [
        "Amazon record 'b000hkgj8k' has tokens and weights:\n",
        "{'autocad': 9.785704516879745, 'autodesk': 4.382026634673881, 'courseware': 10.596634733096073, 'psg': 5.298317366548036, '2007': 5.991464547107982, 'customizing': 8.764053269347762, 'interface': 5.711940662357664}\n"
       ]
      }
     ],
     "prompt_number": 20
    },
    {
     "cell_type": "markdown",
     "metadata": {},
     "source": [
      "\n",
      "### 1.3 Cosine Similarity\n",
      "\n",
      "Now we are ready to do text comparisons in a formal way.\n",
      "The metric of string distance we will use is called **cosine similarity**.\n",
      "We will treat each document as a vector in some high dimensional space.\n",
      "Then, to compare two documents we compute the cosine of the angle between their two document vectors.\n",
      "This is easier than it sounds.\n",
      "\n",
      "The first question to answer is how do we represent documents as vectors?\n",
      "The answer is familiar: bag-of-words!\n",
      "We treat each unique token as a dimension, and treat token weights as magnitudes in their respective token dimensions.\n",
      "For example, suppose we use simple counts as weights, and we want to interpret the string \"Hello, world!  Goodbye, world!\" as a vector.\n",
      "Then in the \"hello\" and \"goodbye\" dimensions the vector has value 1, in the \"world\" dimension it has value 2, and it is zero in all other dimensions.\n",
      "\n",
      "Next question is: given two vectors how do we find the cosine of the angle between them?\n",
      "Recall the formula for the dot product of two vectors:\n",
      "\n",
      "$$a \\cdot b = \\| a \\| \\| b \\| \\cos \\theta$$\n",
      "\n",
      "Here $a \\cdot b = \\sum_{i=1}^n a_i b_i$ is the ordinary dot product of two vectors, and $\\|a\\| = \\sqrt{ \\sum_{i=1}^n a_i^2 }$ is the norm of $a$.\n",
      "\n",
      "We can rearrange terms and solve for the cosine to find it is simply the normalized dot product of the vectors.\n",
      "With our vector model, the dot product and norm computations are simple functions of the bag-of-words document representations, so we now have a formal way to compute similarity:\n",
      "\n",
      "$$similarity = \\cos \\theta = \\frac{a \\cdot b}{\\|a\\| \\|b\\|} = \\frac{\\sum_{i=1}^n a_i b_i}{\\sqrt{\\sum_{i=1}^n a_i^2} \\sqrt{\\sum_{i=1}^n b_i^2}}$$\n",
      "\n",
      "Setting aside the algebra, the geometric interpretation is more intuitive.\n",
      "The angle between two document vectors is small if they share many tokens in common, because they are pointing in roughly the same direction.\n",
      "Then, the cosine of the angle will be large.\n",
      "Otherwise, if the angle is large (and they have few words in common), the cosine is small.\n",
      "So the cosine scales proportionally with our intuitive sense of similarity."
     ]
    },
    {
     "cell_type": "markdown",
     "metadata": {},
     "source": [
      "\n",
      "#### Exercise 3\n",
      "\n",
      "**a**. Implement `cosine_similarity(string1, string2, idfs)` that takes two strings and computes their cosine similarity in the context of some global IDF weights.\n",
      "Use `tokenize`, `tfidf`, and the IDF weights from exercise **2b** for extracting tokens and assigning them weights.\n"
     ]
    },
    {
     "cell_type": "code",
     "collapsed": false,
     "input": [
      "import math\n",
      "\n",
      "# Optional utility\n",
      "def dotprod(a, b):\n",
      "    res = 0.0\n",
      "    for k, v in a.iteritems():\n",
      "        if k in b:\n",
      "            res += v * b[k]\n",
      "    return res\n",
      "# Optional utility\n",
      "def norm(a):\n",
      "    res = 0.0\n",
      "    for v in a.values():\n",
      "        res += v**2\n",
      "    res = res**0.5\n",
      "    return res\n",
      "# Optional freebie\n",
      "def cossim(a, b):\n",
      "    return dotprod(a, b) / norm(a) / norm(b)\n",
      "\n",
      "test_vec1 = {'foo': 2, 'bar': 3, 'baz': 5 }\n",
      "test_vec2 = {'foo': 1, 'bax': 5, 'baz': 4 }\n",
      "print dotprod(test_vec1, test_vec2), norm(test_vec1) # Should be 22 6.16441400297\n",
      "\n",
      "# TODO Implement this\n",
      "def cosine_similarity(tokens1, tokens2, idfs):\n",
      "    a = tfidf(tokens1, idfs)\n",
      "    b = tfidf(tokens2, idfs)\n",
      "    return cossim(a, b)\n",
      "\n",
      "print cosine_similarity([\"adobe\", \"photoshop\"],\n",
      "                        [\"adobe\", \"illustrator\"], \n",
      "                        idfs_small) # Should be 0.321248173318\n"
     ],
     "language": "python",
     "metadata": {},
     "outputs": [
      {
       "output_type": "stream",
       "stream": "stdout",
       "text": [
        "22.0 6.16441400297\n",
        "0.321248173318\n"
       ]
      }
     ],
     "prompt_number": 21
    },
    {
     "cell_type": "markdown",
     "metadata": {},
     "source": [
      "**b**. Now we can finally do some entity resolution!\n",
      "For every product record in the small Google data set, use `cosine_similarity` to compute its similarity to every record in the small Amazon set.  Build a dictionary mapping `(Amazon Id, Google Id)` tuples to similarity scores between 0 and 1.\n",
      "What is the similarity between Amazon record 'b000o24l3q' and Google record `http://www.google.com/base/feeds/snippets/17242822440574356561`."
     ]
    },
    {
     "cell_type": "code",
     "collapsed": false,
     "input": [
      "# TODO Compute similarities\n",
      "similarities = {}\n",
      "for k, v in amazon_rec2tok.iteritems():\n",
      "    for k2, v2 in google_rec2tok.iteritems():\n",
      "        key = k, k2\n",
      "        val = cosine_similarity(v, v2, idfs_small)\n",
      "        similarities[key] = val\n",
      "print 'Requested similarity is %s.' % similarities[('b000o24l3q',\n",
      "  'http://www.google.com/base/feeds/snippets/17242822440574356561')]"
     ],
     "language": "python",
     "metadata": {},
     "outputs": [
      {
       "output_type": "stream",
       "stream": "stdout",
       "text": [
        "Requested similarity is 0.00861726764568.\n"
       ]
      }
     ],
     "prompt_number": 22
    },
    {
     "cell_type": "markdown",
     "metadata": {},
     "source": [
      "**c**.  Use the \"gold standard\" data (loaded from the supplied file) to answer the following questions. How many true duplicate pairs are there in the small data sets? What is the average similarity score for true duplicates?  What about for non-duplicates?  Based on this, is cosine similarity doing a good job, qualitatively speaking, of identifying duplicates?  Why or why not?"
     ]
    },
    {
     "cell_type": "code",
     "collapsed": false,
     "input": [
      "gold_standard = [] # Load this if not already loaded\n",
      "# Load the data\n",
      "dict_res = {}\n",
      "fname = DATA_PATH + \"Amazon_Google_perfectMapping.csv\"\n",
      "with open(fname, 'rb') as f:\n",
      "    reader = csv.reader(f)\n",
      "    i = 0\n",
      "    for row in reader:\n",
      "        if i == 0:\n",
      "            i = 1\n",
      "            continue\n",
      "        tmp = (row[0], row[1])\n",
      "        gold_standard.append(tmp)\n",
      "\n",
      "true_dups = len(gold_standard) # Fix me\n",
      "\n",
      "avg_sim_dups = 0.0\n",
      "count = 0.0\n",
      "for same in gold_standard:\n",
      "    if same in similarities:\n",
      "        avg_sim_dups += similarities[same]\n",
      "        count += 1.0\n",
      "avg_sim_dups /= count\n",
      "\n",
      "avg_sim_non = 0.0 # Fix me\n",
      "count = 0.0\n",
      "for k, v in similarities.iteritems():\n",
      "    if k not in gold_standard:\n",
      "        avg_sim_non += v\n",
      "        count += 1.0\n",
      "avg_sim_non /= count\n",
      "\n",
      "print \"There are %s true duplicates.\" % true_dups\n",
      "print \"The average similarity of true duplicates is %s.\" % avg_sim_dups\n",
      "print \"And for non duplicates, it is %s.\" % avg_sim_non\n"
     ],
     "language": "python",
     "metadata": {},
     "outputs": [
      {
       "output_type": "stream",
       "stream": "stdout",
       "text": [
        "There are 1300 true duplicates.\n",
        "The average similarity of true duplicates is 0.452384935292.\n",
        "And for non duplicates, it is 0.0108654939733.\n"
       ]
      }
     ],
     "prompt_number": 23
    },
    {
     "cell_type": "markdown",
     "metadata": {},
     "source": [
      "> TODO Answer question **c** here"
     ]
    },
    {
     "cell_type": "code",
     "collapsed": false,
     "input": [],
     "language": "python",
     "metadata": {},
     "outputs": []
    }
   ],
   "metadata": {}
  }
 ]
}